{
 "cells": [
  {
   "cell_type": "markdown",
   "metadata": {},
   "source": [
    "Load Environment variables\n",
    "--------------------------"
   ]
  },
  {
   "cell_type": "code",
   "execution_count": 9,
   "metadata": {},
   "outputs": [],
   "source": [
    "import os\n",
    "from dotenv import load_dotenv\n",
    "\n",
    "load_dotenv()\n",
    "\n",
    "os.environ[\"GROQ_API_KEY\"] = os.getenv(\"GROQ_API_KEY\")\n",
    "os.environ[\"TAVILY_API_KEY\"] = os.getenv(\"TAVILY_API_KEY\")\n",
    "\n",
    "os.environ[\"LANGCHAIN_TRACING_V2\"] = \"true\"\n",
    "os.environ[\"LANGCHAIN_PROJECT\"] = \"multi-agent-search-bot\"\n",
    "os.environ[\"LANGCHAIN_API_KEY\"] = os.getenv(\"LANGCHAIN_API_KEY\")\n",
    "\n",
    "\n",
    "#Import Library for tools:\n",
    "\n",
    "from typing import Annotated\n",
    "from langchain_community.tools.tavily_search import TavilySearchResults\n",
    "from langchain_core.tools import tool\n",
    "from langchain_experimental.utilities import PythonREPL\n",
    "\n",
    "\n",
    "#Import Library for Agent Supervisor:\n",
    "\n",
    "from typing import Literal\n",
    "from typing_extensions import TypedDict\n",
    "\n",
    "from langchain_groq import ChatGroq\n",
    "from langgraph.graph import MessagesState\n",
    "from langgraph.types import Command\n",
    "from langchain_core.messages import  trim_messages\n",
    "from langgraph.checkpoint.memory import MemorySaver\n",
    "from langchain_core.messages import HumanMessage\n",
    "from langgraph.graph import StateGraph, START, END\n",
    "from langgraph.prebuilt import create_react_agent\n",
    "from langgraph.graph.message import add_messages\n"
   ]
  },
  {
   "cell_type": "markdown",
   "metadata": {},
   "source": [
    "Create tools:\n",
    "-------------\n",
    "We will create tool to do web research with a search engine using Tavily Search, and another tool to do math operations and create plots using Python Repl."
   ]
  },
  {
   "cell_type": "code",
   "execution_count": 10,
   "metadata": {},
   "outputs": [],
   "source": [
    "\n",
    "tavily_tool = TavilySearchResults(max_results=5)\n",
    "\n",
    "repl = PythonREPL()\n",
    "\n",
    "@tool\n",
    "def python_rep_tool(code: Annotated[str, \"Python code to execute to generate your chart.\"]) :\n",
    "    \"\"\"Use this to execute python code and do math. If you want to see the output of a value,\n",
    "    you should print it out with `print(...)`. This is visible to the user.\"\"\"\n",
    "    try:\n",
    "        result = repl.run(code)\n",
    "    except BaseException as e:\n",
    "        return f\"Failed to execute. Error: {repr(e)}\"\n",
    "    result_str = f\"Successfully executed:\\n '''python\\n{code}\\n'''\\nStdout: {result}\"\n",
    "    return result_str"
   ]
  },
  {
   "cell_type": "markdown",
   "metadata": {},
   "source": [
    "Create Agent Supervisor:\n",
    "------------------------\n",
    "We will use LLM to decide whether to choose the next worker node OR Finish processing."
   ]
  },
  {
   "cell_type": "code",
   "execution_count": 11,
   "metadata": {},
   "outputs": [],
   "source": [
    "members = [\"researcher\", \"coder\"]\n",
    "\n",
    "\n",
    "system_prompt =(\n",
    "    f\"You are a supervisor tasked with managing a conversation between the following workers: {members}. Your role is to route the user's request to the appropriate workers based on the task at hand.\"\n",
    "    \"Here are the rules you must follow:\"\n",
    "    f\"1. **Routing to Workers**: When a user request requires a specific worker, respond with the name of the worker {members} to route the request to that worker.\"\n",
    "    \"2. **Handling Results**: After receiving results from a worker, evaluate whether the user's request has been fully addressed. If the request is complete, respond with the keyword FINISH to indicate the end of the workflow. If further actions are needed, route the request to another worker or back to the same worker as necessary.\"\n",
    "    \"3. **Final Response**: When you decide to end the workflow, ensure your response is with their results .\"\n",
    "    \" Ensure all tool calls are formatted correctly.\"\n",
    "    )\n",
    "        \n",
    "\n",
    "class Router(TypedDict):\n",
    "    f\"\"\"Worker to route to next. If no workers needed, route to FINISH.\"\"\"\n",
    "    next: Literal[\"researcher\", \"coder\",\"FINISH\"]\n",
    "\n",
    "\n",
    "llm=ChatGroq(groq_api_key=os.environ[\"GROQ_API_KEY\"],model=\"mixtral-8x7b-32768\",temperature=0, max_tokens=200)\n",
    "\n",
    "\n",
    "class State(MessagesState):\n",
    "    next: str\n"
   ]
  },
  {
   "cell_type": "markdown",
   "metadata": {},
   "source": [
    "Supervisor node (LLM) that decides which agent worker nodes should be called next, based on the user input query.\n"
   ]
  },
  {
   "cell_type": "code",
   "execution_count": 12,
   "metadata": {},
   "outputs": [],
   "source": [
    "\n",
    "def supervisor_node(state: State) -> Command[Literal[\"researcher\", \"coder\", \"__end__\"]]:\n",
    "        messages = [\n",
    "            {\"role\": \"system\", \"content\": system_prompt},\n",
    "            ] + state[\"messages\"]\n",
    "        response = llm.with_structured_output(Router).invoke(messages)\n",
    "        print('llm-response:',response)\n",
    "\n",
    "        goto = response[\"next\"]\n",
    "        print(\"goto:\",goto)\n",
    "\n",
    "        if goto == \"FINISH\":\n",
    "            goto = END\n",
    "        return Command(goto=goto,update={\"next\": goto})"
   ]
  },
  {
   "cell_type": "markdown",
   "metadata": {},
   "source": [
    "Construct Graph\n",
    "----------------\n",
    "We will start building the graph. First, we will define the state and worker nodes function that we defined above."
   ]
  },
  {
   "cell_type": "code",
   "execution_count": 13,
   "metadata": {},
   "outputs": [],
   "source": [
    " #Search_Tool\n",
    "research_agent = create_react_agent(\n",
    "    llm , tools=[tavily_tool], state_modifier=\"You are a researcher. DO NOT do any math operations.\")\n",
    "\n",
    "\n",
    "def research_node(state: MessagesState) -> Command[Literal[\"supervisor\"]]:\n",
    "    result = research_agent.invoke(state)\n",
    "    return Command(\n",
    "        update={\n",
    "            \"messages\": [\n",
    "                HumanMessage(content=result[\"messages\"][-1].content, name=\"researcher\")\n",
    "        ]\n",
    "        },\n",
    "        goto=\"supervisor\",\n",
    "    )\n",
    "\n",
    "\n",
    "# Math_operator_Tool\n",
    "code_agent = create_react_agent(llm, tools=[python_rep_tool], state_modifier=\"You are a Math Operator Tool.do the math operations only.\")\n",
    "\n",
    "\n",
    "def code_node(state: MessagesState) -> Command[Literal[\"supervisor\"]]:\n",
    "    result = code_agent.invoke(state)\n",
    "    return Command(\n",
    "        update={\n",
    "            \"messages\": [\n",
    "                HumanMessage(content=result[\"messages\"][-1].content, name=\"coder\")\n",
    "            ]\n",
    "        },\n",
    "        goto=\"supervisor\",\n",
    "    )"
   ]
  },
  {
   "cell_type": "markdown",
   "metadata": {},
   "source": [
    "we will define the Graph workflow:"
   ]
  },
  {
   "cell_type": "code",
   "execution_count": 14,
   "metadata": {},
   "outputs": [],
   "source": [
    "builder = StateGraph(State)\n",
    "builder.add_edge(START, \"supervisor\")\n",
    "builder.add_node(\"supervisor\", supervisor_node)\n",
    "builder.add_node(\"researcher\", research_node)\n",
    "builder.add_node(\"coder\", code_node)\n",
    "graph = builder.compile()\n"
   ]
  },
  {
   "cell_type": "markdown",
   "metadata": {},
   "source": [
    "Invoke the Graph\n",
    "-----------------\n",
    "With the graph created, we can now invoke it and see how it performs!"
   ]
  },
  {
   "cell_type": "code",
   "execution_count": 15,
   "metadata": {},
   "outputs": [],
   "source": [
    "def call_agent(user_input):\n",
    "    output = []\n",
    "    for s in graph.stream({\"messages\": [(\"user\", user_input)]}, subgraphs=True):\n",
    "        print(s)\n",
    "        print(\"----\")\n",
    "        output.append(s)\n",
    "    \n",
    "    a = output [-2][1]\n",
    "    #print(a)\n",
    "\n",
    "    if 'researcher' in a:\n",
    "        #print(\"The key 'researcher' is present.\")\n",
    "        output1 = a['researcher']['messages'][-1].content\n",
    "\n",
    "    elif 'coder'in a:\n",
    "        #print(\"The key 'coder' is present.\")\n",
    "        output1 = a['coder']['messages'][-1].content\n",
    "\n",
    "    return output1\n",
    "    "
   ]
  },
  {
   "cell_type": "code",
   "execution_count": 16,
   "metadata": {},
   "outputs": [
    {
     "name": "stdout",
     "output_type": "stream",
     "text": [
      "llm-response: {'next': 'coder'}\n",
      "goto: coder\n",
      "((), {'supervisor': {'next': 'coder'}})\n",
      "----\n"
     ]
    },
    {
     "name": "stderr",
     "output_type": "stream",
     "text": [
      "Python REPL can execute arbitrary code. Use with caution.\n"
     ]
    },
    {
     "name": "stdout",
     "output_type": "stream",
     "text": [
      "(('coder:dea511d3-2c4c-2411-eece-430c6f339d7c',), {'agent': {'messages': [AIMessage(content='', additional_kwargs={'tool_calls': [{'id': 'call_97tm', 'function': {'arguments': '{\"code\":\"result = 48946 * 54198\\\\nprint(result)\"}', 'name': 'python_rep_tool'}, 'type': 'function'}]}, response_metadata={'token_usage': {'completion_tokens': 110, 'prompt_tokens': 1244, 'total_tokens': 1354, 'completion_time': 0.168634911, 'prompt_time': 0.081620041, 'queue_time': 0.021440709000000002, 'total_time': 0.250254952}, 'model_name': 'mixtral-8x7b-32768', 'system_fingerprint': 'fp_c5f20b5bb1', 'finish_reason': 'tool_calls', 'logprobs': None}, id='run-bac77f35-de83-4409-bdb0-7eb731a27339-0', tool_calls=[{'name': 'python_rep_tool', 'args': {'code': 'result = 48946 * 54198\\nprint(result)'}, 'id': 'call_97tm', 'type': 'tool_call'}], usage_metadata={'input_tokens': 1244, 'output_tokens': 110, 'total_tokens': 1354})]}})\n",
      "----\n",
      "(('coder:dea511d3-2c4c-2411-eece-430c6f339d7c',), {'tools': {'messages': [ToolMessage(content=\"Successfully executed:\\n '''python\\nresult = 48946 * 54198\\nprint(result)\\n'''\\nStdout: 2652775308\\n\", name='python_rep_tool', id='f5cab5b6-dcf3-4ed7-ba0b-cb9d1dae4dfe', tool_call_id='call_97tm')]}})\n",
      "----\n",
      "(('coder:dea511d3-2c4c-2411-eece-430c6f339d7c',), {'agent': {'messages': [AIMessage(content='The product of 48946 and 54198 is 2652775308.', additional_kwargs={}, response_metadata={'token_usage': {'completion_tokens': 30, 'prompt_tokens': 1384, 'total_tokens': 1414, 'completion_time': 0.044714056, 'prompt_time': 0.069090178, 'queue_time': 0.020195407, 'total_time': 0.113804234}, 'model_name': 'mixtral-8x7b-32768', 'system_fingerprint': 'fp_c5f20b5bb1', 'finish_reason': 'stop', 'logprobs': None}, id='run-0c41e74c-2f32-4a53-bcde-71fafd03e0d8-0', usage_metadata={'input_tokens': 1384, 'output_tokens': 30, 'total_tokens': 1414})]}})\n",
      "----\n",
      "((), {'coder': {'messages': [HumanMessage(content='The product of 48946 and 54198 is 2652775308.', additional_kwargs={}, response_metadata={}, name='coder')]}})\n",
      "----\n",
      "llm-response: {'next': 'FINISH'}\n",
      "goto: FINISH\n",
      "((), {'supervisor': {'next': '__end__'}})\n",
      "----\n"
     ]
    }
   ],
   "source": [
    "b = call_agent(\"what is 48946 * 54198\") "
   ]
  },
  {
   "cell_type": "code",
   "execution_count": 20,
   "metadata": {},
   "outputs": [
    {
     "data": {
      "text/plain": [
       "'The product of 48946 and 54198 is 2652775308.'"
      ]
     },
     "execution_count": 20,
     "metadata": {},
     "output_type": "execute_result"
    }
   ],
   "source": [
    "b"
   ]
  },
  {
   "cell_type": "code",
   "execution_count": 17,
   "metadata": {},
   "outputs": [
    {
     "name": "stdout",
     "output_type": "stream",
     "text": [
      "llm-response: {'next': 'coder'}\n",
      "goto: coder\n",
      "((), {'supervisor': {'next': 'coder'}})\n",
      "----\n",
      "(('coder:54c111a8-778e-df4b-6af7-9da276e0bb30',), {'agent': {'messages': [AIMessage(content='', additional_kwargs={'tool_calls': [{'id': 'call_pr2h', 'function': {'arguments': '{\"code\":\"result = 457587 ** 2; print(result)\"}', 'name': 'python_rep_tool'}, 'type': 'function'}]}, response_metadata={'token_usage': {'completion_tokens': 106, 'prompt_tokens': 1241, 'total_tokens': 1347, 'completion_time': 0.162051032, 'prompt_time': 0.067271472, 'queue_time': 0.020980227000000004, 'total_time': 0.229322504}, 'model_name': 'mixtral-8x7b-32768', 'system_fingerprint': 'fp_c5f20b5bb1', 'finish_reason': 'tool_calls', 'logprobs': None}, id='run-6489b3b5-4c78-4ad9-b7fd-436b52225245-0', tool_calls=[{'name': 'python_rep_tool', 'args': {'code': 'result = 457587 ** 2; print(result)'}, 'id': 'call_pr2h', 'type': 'tool_call'}], usage_metadata={'input_tokens': 1241, 'output_tokens': 106, 'total_tokens': 1347})]}})\n",
      "----\n",
      "(('coder:54c111a8-778e-df4b-6af7-9da276e0bb30',), {'tools': {'messages': [ToolMessage(content=\"Successfully executed:\\n '''python\\nresult = 457587 ** 2; print(result)\\n'''\\nStdout: 209385862569\\n\", name='python_rep_tool', id='0142bbbe-1af9-4ef4-9beb-70b5a52d5d1c', tool_call_id='call_pr2h')]}})\n",
      "----\n",
      "(('coder:54c111a8-778e-df4b-6af7-9da276e0bb30',), {'agent': {'messages': [AIMessage(content='The square of 457587 is 209385862569.', additional_kwargs={}, response_metadata={'token_usage': {'completion_tokens': 26, 'prompt_tokens': 1376, 'total_tokens': 1402, 'completion_time': 0.038415804, 'prompt_time': 0.073679172, 'queue_time': 0.02188722, 'total_time': 0.112094976}, 'model_name': 'mixtral-8x7b-32768', 'system_fingerprint': 'fp_c5f20b5bb1', 'finish_reason': 'stop', 'logprobs': None}, id='run-11bf3679-88e6-4896-8d65-4c1f368b38d6-0', usage_metadata={'input_tokens': 1376, 'output_tokens': 26, 'total_tokens': 1402})]}})\n",
      "----\n",
      "((), {'coder': {'messages': [HumanMessage(content='The square of 457587 is 209385862569.', additional_kwargs={}, response_metadata={}, name='coder')]}})\n",
      "----\n",
      "llm-response: {'next': 'FINISH'}\n",
      "goto: FINISH\n",
      "((), {'supervisor': {'next': '__end__'}})\n",
      "----\n"
     ]
    }
   ],
   "source": [
    "c = call_agent(\"what is the square of 457587\")"
   ]
  },
  {
   "cell_type": "code",
   "execution_count": 21,
   "metadata": {},
   "outputs": [
    {
     "data": {
      "text/plain": [
       "'The square of 457587 is 209385862569.'"
      ]
     },
     "execution_count": 21,
     "metadata": {},
     "output_type": "execute_result"
    }
   ],
   "source": [
    "c"
   ]
  },
  {
   "cell_type": "code",
   "execution_count": 26,
   "metadata": {},
   "outputs": [
    {
     "name": "stdout",
     "output_type": "stream",
     "text": [
      "llm-response: {'next': 'researcher'}\n",
      "goto: researcher\n",
      "((), {'supervisor': {'next': 'researcher'}})\n",
      "----\n",
      "(('researcher:d3787902-ccfa-d24e-26e3-e88addb5d157',), {'agent': {'messages': [AIMessage(content='', additional_kwargs={'tool_calls': [{'id': 'call_en3q', 'function': {'arguments': '{\"query\":\"weather in chennai\"}', 'name': 'tavily_search_results_json'}, 'type': 'function'}]}, response_metadata={'token_usage': {'completion_tokens': 101, 'prompt_tokens': 1232, 'total_tokens': 1333, 'completion_time': 0.15464946, 'prompt_time': 0.081221259, 'queue_time': 0.020916042999999995, 'total_time': 0.235870719}, 'model_name': 'mixtral-8x7b-32768', 'system_fingerprint': 'fp_c5f20b5bb1', 'finish_reason': 'tool_calls', 'logprobs': None}, id='run-2f3be568-f47f-4688-8f53-766ae96c9f12-0', tool_calls=[{'name': 'tavily_search_results_json', 'args': {'query': 'weather in chennai'}, 'id': 'call_en3q', 'type': 'tool_call'}], usage_metadata={'input_tokens': 1232, 'output_tokens': 101, 'total_tokens': 1333})]}})\n",
      "----\n",
      "(('researcher:d3787902-ccfa-d24e-26e3-e88addb5d157',), {'tools': {'messages': [ToolMessage(content='[{\"url\": \"https://www.weatherapi.com/\", \"content\": \"{\\'location\\': {\\'name\\': \\'Chennai\\', \\'region\\': \\'Tamil Nadu\\', \\'country\\': \\'India\\', \\'lat\\': 13.0833, \\'lon\\': 80.2833, \\'tz_id\\': \\'Asia/Kolkata\\', \\'localtime_epoch\\': 1738496033, \\'localtime\\': \\'2025-02-02 17:03\\'}, \\'current\\': {\\'last_updated_epoch\\': 1738495800, \\'last_updated\\': \\'2025-02-02 17:00\\', \\'temp_c\\': 29.3, \\'temp_f\\': 84.7, \\'is_day\\': 1, \\'condition\\': {\\'text\\': \\'Partly cloudy\\', \\'icon\\': \\'//cdn.weatherapi.com/weather/64x64/day/116.png\\', \\'code\\': 1003}, \\'wind_mph\\': 9.4, \\'wind_kph\\': 15.1, \\'wind_degree\\': 73, \\'wind_dir\\': \\'ENE\\', \\'pressure_mb\\': 1009.0, \\'pressure_in\\': 29.8, \\'precip_mm\\': 0.0, \\'precip_in\\': 0.0, \\'humidity\\': 66, \\'cloud\\': 50, \\'feelslike_c\\': 31.9, \\'feelslike_f\\': 89.4, \\'windchill_c\\': 26.5, \\'windchill_f\\': 79.7, \\'heatindex_c\\': 27.8, \\'heatindex_f\\': 82.0, \\'dewpoint_c\\': 18.2, \\'dewpoint_f\\': 64.8, \\'vis_km\\': 6.0, \\'vis_miles\\': 3.0, \\'uv\\': 0.1, \\'gust_mph\\': 12.9, \\'gust_kph\\': 20.8}}\"}, {\"url\": \"https://www.easeweather.com/asia/india/tamil-nadu/chennai/february\", \"content\": \"Weather in Chennai in February 2025 - Detailed Forecast Weather in Chennai for February 2025 Your guide to Chennai weather in February - trends and predictions The forecast for the first days of February 2025 in Chennai predicts temperatures to be around 28\\xa0°C, close to the historical average. In general, the average temperature in Chennai at the beginning of February is 28\\xa0°C. Chennai in February average weather Temperatures trend during February in Chennai Our weather forecast for Chennai in February is based on the analysis of historical data rather than real-time forecast models. Chennai in February - FAQ Explore the daily rainfall trends and prepare for Chennais February weather\\xa0💧 February Weather\"}, {\"url\": \"https://world-weather.info/forecast/india/chennai_1/february-2025/\", \"content\": \"Weather in Chennai in February 2025 (State of Tamil Nādu) - Detailed Weather Forecast for a Month Weather Weather in Chennai Weather in Chennai in February 2025 Chennai Weather Forecast for February 2025 is based on long term prognosis and previous years\\' statistical data. 1 +84°+77° 2 +82°+77° 3 +82°+73° 4 +84°+73° 5 +84°+75° 6 +84°+75° 7 +82°+72° 8 +82°+72° 9 +82°+73° 10 +82°+73° 11 +82°+73° 12 +82°+72° 13 +84°+77° 14 +86°+77° 15 +88°+79° 16 +84°+79° 17 +86°+82° +86°+77° +86°+77° +86°+77° +86°+77° +86°+77° +86°+79° +86°+77° +88°+79° +88°+79° +88°+79° +88°+79° Extended weather forecast in Chennai HourlyWeek10-Day14-Day30-DayYear Weather in large and nearby cities Weather in New Delhi+73° Dindigul+91° Kurnool+93° Tiruppūr+90° Vijayawada+86° Guntūr+86° Tumkūr+84° Anantapur+91° Tiruchchirāppalli+93° Bangalore+84° Thanjavur+93° Salem+90° kāraikāl+82° Nellore+86° Puducherry+82° Tirupati+90° Aravedu+86° world\\'s temperature today day day\"}, {\"url\": \"https://www.businesstoday.in/weather/chennai-weather-forecast-today/\", \"content\": \"Chennai Weather Today Saturday, Oct 05, 2024, Chennai Temperature and Air Quality(AQI) Business Today India Today India Today Gaming Cover Story Editor\\'s Note Deep Dive Interview The Buzz Market Today Easynomics Drive Today BT Explainer Market Today Trending Stocks Indices Stocks List Stocks News Share Market News IPO Corner Tech Today Tax Investment Insurance Tools & Calculator Banking IT Auto Energy Commodities Pharma Real Estate Telecom PMS Today Immersives Economic Indicators UPSTART India Weather NRI Market Today Drive Today Market Today Tech Today News / Weather / Chennai Weather Today Chennai Weather Today and AQI Level Today’s minimum temperature in Chennai is recorded at 26°c (degrees celsius), and the maximum temperature is expected to go as high as 31°c (degrees celsius).\"}, {\"url\": \"https://en.climate-data.org/asia/india/tamilnadu/chennai-1003222/t/february-2/\", \"content\": \"Weather ☀ ⛅ Chennai ☀ ⛅ February ☀ ⛅ Information on temperature, sunshine hours, water temperature & rainfall in February for Chennai.\"}]', name='tavily_search_results_json', id='07e895b1-1485-4696-8c96-26cbff88a7d3', tool_call_id='call_en3q', artifact={'query': 'weather in chennai', 'follow_up_questions': None, 'answer': None, 'images': [], 'results': [{'title': 'Weather in chennai', 'url': 'https://www.weatherapi.com/', 'content': \"{'location': {'name': 'Chennai', 'region': 'Tamil Nadu', 'country': 'India', 'lat': 13.0833, 'lon': 80.2833, 'tz_id': 'Asia/Kolkata', 'localtime_epoch': 1738496033, 'localtime': '2025-02-02 17:03'}, 'current': {'last_updated_epoch': 1738495800, 'last_updated': '2025-02-02 17:00', 'temp_c': 29.3, 'temp_f': 84.7, 'is_day': 1, 'condition': {'text': 'Partly cloudy', 'icon': '//cdn.weatherapi.com/weather/64x64/day/116.png', 'code': 1003}, 'wind_mph': 9.4, 'wind_kph': 15.1, 'wind_degree': 73, 'wind_dir': 'ENE', 'pressure_mb': 1009.0, 'pressure_in': 29.8, 'precip_mm': 0.0, 'precip_in': 0.0, 'humidity': 66, 'cloud': 50, 'feelslike_c': 31.9, 'feelslike_f': 89.4, 'windchill_c': 26.5, 'windchill_f': 79.7, 'heatindex_c': 27.8, 'heatindex_f': 82.0, 'dewpoint_c': 18.2, 'dewpoint_f': 64.8, 'vis_km': 6.0, 'vis_miles': 3.0, 'uv': 0.1, 'gust_mph': 12.9, 'gust_kph': 20.8}}\", 'score': 0.9686987, 'raw_content': None}, {'title': 'Weather in Chennai in February 2025 - Detailed Forecast', 'url': 'https://www.easeweather.com/asia/india/tamil-nadu/chennai/february', 'content': 'Weather in Chennai in February 2025 - Detailed Forecast Weather in Chennai for February 2025 Your guide to Chennai weather in February - trends and predictions The forecast for the first days of February 2025 in Chennai predicts temperatures to be around 28\\xa0°C, close to the historical average. In general, the average temperature in Chennai at the beginning of February is 28\\xa0°C. Chennai in February average weather Temperatures trend during February in Chennai Our weather forecast for Chennai in February is based on the analysis of historical data rather than real-time forecast models. Chennai in February - FAQ Explore the daily rainfall trends and prepare for Chennais February weather\\xa0💧 February Weather', 'score': 0.9168945, 'raw_content': None}, {'title': 'Weather in Chennai in February 2025 (State of Tamil Nādu) - detailed ...', 'url': 'https://world-weather.info/forecast/india/chennai_1/february-2025/', 'content': \"Weather in Chennai in February 2025 (State of Tamil Nādu) - Detailed Weather Forecast for a Month Weather Weather in Chennai Weather in Chennai in February 2025 Chennai Weather Forecast for February 2025 is based on long term prognosis and previous years' statistical data. 1 +84°+77° 2 +82°+77° 3 +82°+73° 4 +84°+73° 5 +84°+75° 6 +84°+75° 7 +82°+72° 8 +82°+72° 9 +82°+73° 10 +82°+73° 11 +82°+73° 12 +82°+72° 13 +84°+77° 14 +86°+77° 15 +88°+79° 16 +84°+79° 17 +86°+82° +86°+77° +86°+77° +86°+77° +86°+77° +86°+77° +86°+79° +86°+77° +88°+79° +88°+79° +88°+79° +88°+79° Extended weather forecast in Chennai HourlyWeek10-Day14-Day30-DayYear Weather in large and nearby cities Weather in New Delhi+73° Dindigul+91° Kurnool+93° Tiruppūr+90° Vijayawada+86° Guntūr+86° Tumkūr+84° Anantapur+91° Tiruchchirāppalli+93° Bangalore+84° Thanjavur+93° Salem+90° kāraikāl+82° Nellore+86° Puducherry+82° Tirupati+90° Aravedu+86° world's temperature today day day\", 'score': 0.910998, 'raw_content': None}, {'title': 'Chennai Weather Today Sunday, Feb 02, 2025, Chennai ... - Business Today', 'url': 'https://www.businesstoday.in/weather/chennai-weather-forecast-today/', 'content': \"Chennai Weather Today Saturday, Oct 05, 2024, Chennai Temperature and Air Quality(AQI) Business Today India Today India Today Gaming Cover Story Editor's Note Deep Dive Interview The Buzz Market Today Easynomics Drive Today BT Explainer Market Today Trending Stocks Indices Stocks List Stocks News Share Market News IPO Corner Tech Today Tax Investment Insurance Tools & Calculator Banking IT Auto Energy Commodities Pharma Real Estate Telecom PMS Today Immersives Economic Indicators UPSTART India Weather NRI Market Today Drive Today Market Today Tech Today News / Weather / Chennai Weather Today Chennai Weather Today and AQI Level Today’s minimum temperature in Chennai is recorded at 26°c (degrees celsius), and the maximum temperature is expected to go as high as 31°c (degrees celsius).\", 'score': 0.8029425, 'raw_content': None}, {'title': 'Weather Chennai in February 2025: Temperature & Climate - Climate-Data.org', 'url': 'https://en.climate-data.org/asia/india/tamilnadu/chennai-1003222/t/february-2/', 'content': 'Weather ☀ ⛅ Chennai ☀ ⛅ February ☀ ⛅ Information on temperature, sunshine hours, water temperature & rainfall in February for Chennai.', 'score': 0.72184175, 'raw_content': None}], 'response_time': 2.32})]}})\n",
      "----\n",
      "(('researcher:d3787902-ccfa-d24e-26e3-e88addb5d157',), {'agent': {'messages': [AIMessage(content='The weather in Chennai, India in February is partly cloudy with an average temperature of around 28°C. The temperature can range from a minimum of 26°C to a maximum of 31°C. There is typically no rainfall during this month.', additional_kwargs={}, response_metadata={'token_usage': {'completion_tokens': 60, 'prompt_tokens': 2963, 'total_tokens': 3023, 'completion_time': 0.091109498, 'prompt_time': 0.206382689, 'queue_time': 0.021600859, 'total_time': 0.297492187}, 'model_name': 'mixtral-8x7b-32768', 'system_fingerprint': 'fp_c5f20b5bb1', 'finish_reason': 'stop', 'logprobs': None}, id='run-8a5eed27-9043-4e77-8d0d-1384b76252c6-0', usage_metadata={'input_tokens': 2963, 'output_tokens': 60, 'total_tokens': 3023})]}})\n",
      "----\n",
      "((), {'researcher': {'messages': [HumanMessage(content='The weather in Chennai, India in February is partly cloudy with an average temperature of around 28°C. The temperature can range from a minimum of 26°C to a maximum of 31°C. There is typically no rainfall during this month.', additional_kwargs={}, response_metadata={}, name='researcher')]}})\n",
      "----\n",
      "llm-response: {'next': 'FINISH'}\n",
      "goto: FINISH\n",
      "((), {'supervisor': {'next': '__end__'}})\n",
      "----\n"
     ]
    }
   ],
   "source": [
    "d = call_agent(\"what is the weather in chennai?\") "
   ]
  },
  {
   "cell_type": "code",
   "execution_count": 27,
   "metadata": {},
   "outputs": [
    {
     "data": {
      "text/plain": [
       "'The weather in Chennai, India in February is partly cloudy with an average temperature of around 28°C. The temperature can range from a minimum of 26°C to a maximum of 31°C. There is typically no rainfall during this month.'"
      ]
     },
     "execution_count": 27,
     "metadata": {},
     "output_type": "execute_result"
    }
   ],
   "source": [
    "d"
   ]
  },
  {
   "cell_type": "code",
   "execution_count": 19,
   "metadata": {},
   "outputs": [
    {
     "name": "stdout",
     "output_type": "stream",
     "text": [
      "llm-response: {'next': 'researcher'}\n",
      "goto: researcher\n",
      "((), {'supervisor': {'next': 'researcher'}})\n",
      "----\n",
      "(('researcher:6c99d265-69a3-84ac-5bb1-38553db82f9c',), {'agent': {'messages': [AIMessage(content='', additional_kwargs={'tool_calls': [{'id': 'call_0627', 'function': {'arguments': '{\"query\":\"gold price in chennai\"}', 'name': 'tavily_search_results_json'}, 'type': 'function'}]}, response_metadata={'token_usage': {'completion_tokens': 119, 'prompt_tokens': 1233, 'total_tokens': 1352, 'completion_time': 0.183243277, 'prompt_time': 0.074245302, 'queue_time': 0.02091208, 'total_time': 0.257488579}, 'model_name': 'mixtral-8x7b-32768', 'system_fingerprint': 'fp_c5f20b5bb1', 'finish_reason': 'tool_calls', 'logprobs': None}, id='run-db4c98d4-6637-440c-a351-fd79c276f2ab-0', tool_calls=[{'name': 'tavily_search_results_json', 'args': {'query': 'gold price in chennai'}, 'id': 'call_0627', 'type': 'tool_call'}], usage_metadata={'input_tokens': 1233, 'output_tokens': 119, 'total_tokens': 1352})]}})\n",
      "----\n",
      "(('researcher:6c99d265-69a3-84ac-5bb1-38553db82f9c',), {'tools': {'messages': [ToolMessage(content='[{\"url\": \"https://www.goldpricesindia.com/cities/chennai/\", \"content\": \"Home › Indian Cities › Gold Price in Chennai Gold Price in Chennai Gold Price Today in Chennai is 7,886 Indian Rupee (INR)/gram 24K. Gold Price Today in Chennai in Indian Rupee (INR) Interactive Gold Price Charts in Chennai in Rs/ g 24K This is the gold price chart in Chennai in Indian Rupee per gram 24 Carat. Gold Price in Chennai in Previous Days in Indian Rupee (INR) Pls send me the gold rate in chennai daily prices Select the metal (gold or silver), carat (purity), enter the weight and select the city to get the total gold or silver price in Indian Rupees in addition to the price in United States dollar according to the latest USD/INR exchange rates.\"}, {\"url\": \"https://www.goodreturns.in/gold-rates/chennai.html\", \"content\": \"The price of gold in Chennai today is ₹ 7,745 per gram for 22 karat gold and ₹ 8,449 per gram for 24 karat gold (also called 999 gold). Gold Rates in Chennai are witnessing a steady trend\"}, {\"url\": \"https://rates.goldenchennai.com/gold-rate/chennai-gold-rate-today/\", \"content\": \"22Ct Gold Rate. In last 90 days, ₹ 6,935.00 was the lowest 22 Carat Gold rate in Chennai retail market per Gram which was on 14-Nov-2024, while the highest 22 Carat market Gold price in Chennai per Gram was recorded on 31-Jan-2025, which was as high as ₹ 7,730.00.\"}, {\"url\": \"https://www.goldenchennai.com/finance/gold-rate-in-tamilnadu/gold-rate-in-chennai/\", \"content\": \"Gold Rate in Chennai | Gold Price in Chennai Live | Chennai 22K Gold Rate per Gram/Sovereign/Tola | Today Gold Rate in Chennai in Indian Rupees - Golden Chennai Gold rate today in Chennai Gold Rate in Chennai Chennai Gold Rate Today 24Ct Gold Rate in Chennai 22Ct Gold Rate in Chennai 21Ct Gold Rate in Chennai 18Ct Gold Rate in Chennai Today\\'s Gold Rate in Chennai in Dollars Chennai Gold Rate History per Gram What is the gold rate in Chennai in US Dollars? 24 karat gold rate per gram in Chennai in US Dollar is USD 108.96 and 24 karat gold price per ounce in Chennai in US Dollar is USD 3,389.12. What was the highest and lowest gold rate in Chennai? Gold Rate in Chennai\"}, {\"url\": \"https://goldrate.com/gold-rate-today/chennai/\", \"content\": \"Find the latest gold price in Chennai per gram for 22kt and 24kt in INR. Compare gold rate by city and see gold price performance and history.\"}]', name='tavily_search_results_json', id='c9210d5a-9149-4633-b856-3b3eaa25d3eb', tool_call_id='call_0627', artifact={'query': 'gold price in chennai', 'follow_up_questions': None, 'answer': None, 'images': [], 'results': [{'title': 'Gold Price in Chennai', 'url': 'https://www.goldpricesindia.com/cities/chennai/', 'content': 'Home › Indian Cities › Gold Price in Chennai Gold Price in Chennai Gold Price Today in Chennai is 7,886 Indian Rupee (INR)/gram 24K. Gold Price Today in Chennai in Indian Rupee (INR) Interactive Gold Price Charts in Chennai in Rs/ g 24K This is the gold price chart in Chennai in Indian Rupee per gram 24 Carat. Gold Price in Chennai in Previous Days in Indian Rupee (INR) Pls send me the gold rate in chennai daily prices Select the metal (gold or silver), carat (purity), enter the weight and select the city to get the total gold or silver price in Indian Rupees in addition to the price in United States dollar according to the latest USD/INR exchange rates.', 'score': 0.95618236, 'raw_content': None}, {'title': 'Todays Gold Rate in Chennai, 18, 22 & 24 Carat Gold Price on 2nd Feb ...', 'url': 'https://www.goodreturns.in/gold-rates/chennai.html', 'content': 'The price of gold in Chennai today is ₹ 7,745 per gram for 22 karat gold and ₹ 8,449 per gram for 24 karat gold (also called 999 gold). Gold Rates in Chennai are witnessing a steady trend', 'score': 0.9412289, 'raw_content': None}, {'title': 'Chennai Gold Rate Today, Live Market Prices - Golden Chennai', 'url': 'https://rates.goldenchennai.com/gold-rate/chennai-gold-rate-today/', 'content': '22Ct Gold Rate. In last 90 days, ₹ 6,935.00 was the lowest 22 Carat Gold rate in Chennai retail market per Gram which was on 14-Nov-2024, while the highest 22 Carat market Gold price in Chennai per Gram was recorded on 31-Jan-2025, which was as high as ₹ 7,730.00.', 'score': 0.92604345, 'raw_content': None}, {'title': 'Gold Rate in Chennai | Gold Price in Chennai Live | Chennai 22K Gold ...', 'url': 'https://www.goldenchennai.com/finance/gold-rate-in-tamilnadu/gold-rate-in-chennai/', 'content': \"Gold Rate in Chennai | Gold Price in Chennai Live | Chennai 22K Gold Rate per Gram/Sovereign/Tola | Today Gold Rate in Chennai in Indian Rupees - Golden Chennai Gold rate today in Chennai Gold Rate in Chennai Chennai Gold Rate Today 24Ct Gold Rate in Chennai 22Ct Gold Rate in Chennai 21Ct Gold Rate in Chennai 18Ct Gold Rate in Chennai Today's Gold Rate in Chennai in Dollars Chennai Gold Rate History per Gram What is the gold rate in Chennai in US Dollars? 24 karat gold rate per gram in Chennai in US Dollar is USD 108.96 and 24 karat gold price per ounce in Chennai in US Dollar is USD 3,389.12. What was the highest and lowest gold rate in Chennai? Gold Rate in Chennai\", 'score': 0.9041187, 'raw_content': None}, {'title': 'Gold Rate in Chennai Today', 'url': 'https://goldrate.com/gold-rate-today/chennai/', 'content': 'Find the latest gold price in Chennai per gram for 22kt and 24kt in INR. Compare gold rate by city and see gold price performance and history.', 'score': 0.7938904, 'raw_content': None}], 'response_time': 1.4})]}})\n",
      "----\n",
      "(('researcher:6c99d265-69a3-84ac-5bb1-38553db82f9c',), {'agent': {'messages': [AIMessage(content='The gold price in Chennai varies depending on the karat of the gold. For 24 karat gold, the price is around ₹ 8,449 per gram, while for 22 karat gold, the price is around ₹ 7,745 per gram. These prices may vary slightly depending on the source.', additional_kwargs={}, response_metadata={'token_usage': {'completion_tokens': 75, 'prompt_tokens': 2122, 'total_tokens': 2197, 'completion_time': 0.114843431, 'prompt_time': 0.111769265, 'queue_time': 0.021241073, 'total_time': 0.226612696}, 'model_name': 'mixtral-8x7b-32768', 'system_fingerprint': 'fp_c5f20b5bb1', 'finish_reason': 'stop', 'logprobs': None}, id='run-a0860d97-759d-46d0-9472-f0f255f3745c-0', usage_metadata={'input_tokens': 2122, 'output_tokens': 75, 'total_tokens': 2197})]}})\n",
      "----\n",
      "((), {'researcher': {'messages': [HumanMessage(content='The gold price in Chennai varies depending on the karat of the gold. For 24 karat gold, the price is around ₹ 8,449 per gram, while for 22 karat gold, the price is around ₹ 7,745 per gram. These prices may vary slightly depending on the source.', additional_kwargs={}, response_metadata={}, name='researcher')]}})\n",
      "----\n",
      "llm-response: {'next': 'FINISH'}\n",
      "goto: FINISH\n",
      "((), {'supervisor': {'next': '__end__'}})\n",
      "----\n"
     ]
    }
   ],
   "source": [
    "e = call_agent(\"what is the gold price in chennai?\") "
   ]
  },
  {
   "cell_type": "code",
   "execution_count": 22,
   "metadata": {},
   "outputs": [
    {
     "data": {
      "text/plain": [
       "'The gold price in Chennai varies depending on the karat of the gold. For 24 karat gold, the price is around ₹ 8,449 per gram, while for 22 karat gold, the price is around ₹ 7,745 per gram. These prices may vary slightly depending on the source.'"
      ]
     },
     "execution_count": 22,
     "metadata": {},
     "output_type": "execute_result"
    }
   ],
   "source": [
    "e"
   ]
  },
  {
   "cell_type": "code",
   "execution_count": 23,
   "metadata": {},
   "outputs": [
    {
     "name": "stdout",
     "output_type": "stream",
     "text": [
      "llm-response: {'next': 'researcher'}\n",
      "goto: researcher\n",
      "((), {'supervisor': {'next': 'researcher'}})\n",
      "----\n",
      "(('researcher:e6164dcd-0d93-8c48-7cee-139ff4882507',), {'agent': {'messages': [AIMessage(content='', additional_kwargs={'tool_calls': [{'id': 'call_myhg', 'function': {'arguments': '{\"query\":\"ICC men\\'s cricketer of the year 2024\"}', 'name': 'tavily_search_results_json'}, 'type': 'function'}]}, response_metadata={'token_usage': {'completion_tokens': 110, 'prompt_tokens': 1242, 'total_tokens': 1352, 'completion_time': 0.168900081, 'prompt_time': 0.072791041, 'queue_time': 0.018969181, 'total_time': 0.241691122}, 'model_name': 'mixtral-8x7b-32768', 'system_fingerprint': 'fp_c5f20b5bb1', 'finish_reason': 'tool_calls', 'logprobs': None}, id='run-f0c0cb94-39ea-4477-956b-b544158e91c8-0', tool_calls=[{'name': 'tavily_search_results_json', 'args': {'query': \"ICC men's cricketer of the year 2024\"}, 'id': 'call_myhg', 'type': 'tool_call'}], usage_metadata={'input_tokens': 1242, 'output_tokens': 110, 'total_tokens': 1352})]}})\n",
      "----\n",
      "(('researcher:e6164dcd-0d93-8c48-7cee-139ff4882507',), {'tools': {'messages': [ToolMessage(content='[{\"url\": \"https://crictoday.com/cricket/news/jasprit-bumrah-named-icc-mens-cricketer-of-the-year-2024/\", \"content\": \"He is the fifth Indian cricketer after Rahul Dravid (2004), Sachin Tendulkar (2010), Ravichandran Ashwin (2016), and Virat Kohli (2017,18) to clinch the trophy. India speedster Jasprit Bumrah has been declared the ICC Men\\'s Cricket of the Year 2024. The right-arm pacer was sensational for the\"}, {\"url\": \"https://timesofindia.indiatimes.com/sports/cricket/news/jasprit-bumrah-named-icc-mens-test-cricketer-of-the-year-2024/articleshow/117601953.cms\", \"content\": \"Jasprit Bumrah has been named ICC Men\\'s Test Cricketer of the Year 2024 after a stellar comeback in Test cricket, claiming 71 wickets in 13 matches. His outstanding performances, including a\"}, {\"url\": \"https://cricket.one/cricket-news/icc-awards-2024-list-of-awards-and-their-winners/6798da70703dbcd7d84b1169\", \"content\": \"Apart from announcing the individual winners, the ICC also unveiled five separate teams of the year, including men\\'s Test and ODI XIs. Following the conclusion of the 20th edition of the ICC Awards on January 28, here we take a look at every single winner as announced during the five-day event. Sir Garfield Sobers Trophy - ICC Men\\'s Cricketer of the Year 2024 Jasprit Bumrah (India)\"}, {\"url\": \"https://www.icc-cricket.com/awards\", \"content\": \"ICC - Awards 2024 Winner crowned of the Sir Garfield Sobers Award for ICC Men\\'s Cricketer of the Year 23h\"}, {\"url\": \"https://en.wikipedia.org/wiki/2024_ICC_Awards\", \"content\": \"International Cricket Council. Retrieved 26 January 2025. ^ \\\\\"ICC AWARDS 2024: Emerging, Associate And Umpire Winners Named\\\\\". International Cricket Council. Retrieved 26 January 2025. ^ \\\\\"The Best of the Best feature in the ICC Men\\'s Test Team of the Year 2024\\\\\". International Cricket Council. Retrieved 24 January 2025.\"}]', name='tavily_search_results_json', id='3aac2ddf-9c91-4ccc-a1bd-86a3698aa136', tool_call_id='call_myhg', artifact={'query': \"ICC men's cricketer of the year 2024\", 'follow_up_questions': None, 'answer': None, 'images': [], 'results': [{'title': \"Jasprit Bumrah named ICC Men's Cricketer of the Year 2024\", 'url': 'https://crictoday.com/cricket/news/jasprit-bumrah-named-icc-mens-cricketer-of-the-year-2024/', 'content': \"He is the fifth Indian cricketer after Rahul Dravid (2004), Sachin Tendulkar (2010), Ravichandran Ashwin (2016), and Virat Kohli (2017,18) to clinch the trophy. India speedster Jasprit Bumrah has been declared the ICC Men's Cricket of the Year 2024. The right-arm pacer was sensational for the\", 'score': 0.9718674, 'raw_content': None}, {'title': \"Jasprit Bumrah named ICC Men's Test Cricketer of the Year 2024\", 'url': 'https://timesofindia.indiatimes.com/sports/cricket/news/jasprit-bumrah-named-icc-mens-test-cricketer-of-the-year-2024/articleshow/117601953.cms', 'content': \"Jasprit Bumrah has been named ICC Men's Test Cricketer of the Year 2024 after a stellar comeback in Test cricket, claiming 71 wickets in 13 matches. His outstanding performances, including a\", 'score': 0.96918756, 'raw_content': None}, {'title': 'ICC Awards 2024: List Of Awards And Their Winners - cricket.one', 'url': 'https://cricket.one/cricket-news/icc-awards-2024-list-of-awards-and-their-winners/6798da70703dbcd7d84b1169', 'content': \"Apart from announcing the individual winners, the ICC also unveiled five separate teams of the year, including men's Test and ODI XIs. Following the conclusion of the 20th edition of the ICC Awards on January 28, here we take a look at every single winner as announced during the five-day event. Sir Garfield Sobers Trophy - ICC Men's Cricketer of the Year 2024 Jasprit Bumrah (India)\", 'score': 0.93161833, 'raw_content': None}, {'title': 'ICC Cricket Awards | ICC', 'url': 'https://www.icc-cricket.com/awards', 'content': \"ICC - Awards 2024 Winner crowned of the Sir Garfield Sobers Award for ICC Men's Cricketer of the Year 23h\", 'score': 0.8338803, 'raw_content': None}, {'title': '2024 ICC Awards - Wikipedia', 'url': 'https://en.wikipedia.org/wiki/2024_ICC_Awards', 'content': 'International Cricket Council. Retrieved 26 January 2025. ^ \"ICC AWARDS 2024: Emerging, Associate And Umpire Winners Named\". International Cricket Council. Retrieved 26 January 2025. ^ \"The Best of the Best feature in the ICC Men\\'s Test Team of the Year 2024\". International Cricket Council. Retrieved 24 January 2025.', 'score': 0.533714, 'raw_content': None}], 'response_time': 1.81})]}})\n",
      "----\n",
      "(('researcher:e6164dcd-0d93-8c48-7cee-139ff4882507',), {'agent': {'messages': [AIMessage(content=\"Jasprit Bumrah is the ICC Men's Cricketer of the Year 2024.\", additional_kwargs={}, response_metadata={'token_usage': {'completion_tokens': 26, 'prompt_tokens': 2001, 'total_tokens': 2027, 'completion_time': 0.038727128, 'prompt_time': 0.168512745, 'queue_time': 0.02028318400000001, 'total_time': 0.207239873}, 'model_name': 'mixtral-8x7b-32768', 'system_fingerprint': 'fp_c5f20b5bb1', 'finish_reason': 'stop', 'logprobs': None}, id='run-f29d5c68-53f4-4be5-a06d-5e2f9391a2b4-0', usage_metadata={'input_tokens': 2001, 'output_tokens': 26, 'total_tokens': 2027})]}})\n",
      "----\n",
      "((), {'researcher': {'messages': [HumanMessage(content=\"Jasprit Bumrah is the ICC Men's Cricketer of the Year 2024.\", additional_kwargs={}, response_metadata={}, name='researcher')]}})\n",
      "----\n",
      "llm-response: {'next': 'FINISH'}\n",
      "goto: FINISH\n",
      "((), {'supervisor': {'next': '__end__'}})\n",
      "----\n"
     ]
    }
   ],
   "source": [
    "f = call_agent(\"Who is the ICC men's cricketer of the year 2024?\")"
   ]
  },
  {
   "cell_type": "code",
   "execution_count": 24,
   "metadata": {},
   "outputs": [
    {
     "data": {
      "text/plain": [
       "\"Jasprit Bumrah is the ICC Men's Cricketer of the Year 2024.\""
      ]
     },
     "execution_count": 24,
     "metadata": {},
     "output_type": "execute_result"
    }
   ],
   "source": [
    "f"
   ]
  }
 ],
 "metadata": {
  "kernelspec": {
   "display_name": "Python 3",
   "language": "python",
   "name": "python3"
  },
  "language_info": {
   "codemirror_mode": {
    "name": "ipython",
    "version": 3
   },
   "file_extension": ".py",
   "mimetype": "text/x-python",
   "name": "python",
   "nbconvert_exporter": "python",
   "pygments_lexer": "ipython3",
   "version": "3.13.1"
  }
 },
 "nbformat": 4,
 "nbformat_minor": 2
}
